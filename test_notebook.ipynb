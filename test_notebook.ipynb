{
 "cells": [
  {
   "cell_type": "code",
   "execution_count": 1,
   "metadata": {},
   "outputs": [
    {
     "name": "stderr",
     "output_type": "stream",
     "text": [
      "The `device` argument should be set by using `torch.device` or passing a string as an argument. This behavior will be deprecated soon and currently defaults to cpu.\n",
      "The `device` argument should be set by using `torch.device` or passing a string as an argument. This behavior will be deprecated soon and currently defaults to cpu.\n",
      "The `device` argument should be set by using `torch.device` or passing a string as an argument. This behavior will be deprecated soon and currently defaults to cpu.\n",
      "The `device` argument should be set by using `torch.device` or passing a string as an argument. This behavior will be deprecated soon and currently defaults to cpu.\n",
      "The `device` argument should be set by using `torch.device` or passing a string as an argument. This behavior will be deprecated soon and currently defaults to cpu.\n",
      "The `device` argument should be set by using `torch.device` or passing a string as an argument. This behavior will be deprecated soon and currently defaults to cpu.\n",
      "The `device` argument should be set by using `torch.device` or passing a string as an argument. This behavior will be deprecated soon and currently defaults to cpu.\n"
     ]
    },
    {
     "name": "stdout",
     "output_type": "stream",
     "text": [
      "Testing attention based model\n",
      "Validation accuracy: 24.8\n",
      "\n",
      "Testing attention + coverage based model\n",
      "Validation accuracy: 78.3\n",
      "\n",
      "Testing full model\n",
      "Validation accuracy: 97.6\n"
     ]
    }
   ],
   "source": [
    "import torch\n",
    "from torchtext import data\n",
    "import encdec_pointergen\n",
    "import encdec_attention\n",
    "import encdec_coverage\n",
    "\n",
    "\n",
    "path = '/home/jacob/Desktop/DeepLearning_summarization/'\n",
    "\n",
    "data_val = '/home/jacob/Desktop/DeepLearning_summarization/Data/validation.csv'\n",
    "\n",
    "TEXT = data.Field(init_token='<bos>', eos_token='<eos>', sequential=True)\n",
    "LABEL = data.Field(init_token='<bos>', eos_token='<eos>', sequential=True)\n",
    "\n",
    "\n",
    "validation_set = data.TabularDataset(data_val, 'CSV', fields=[('data', TEXT), ('label', LABEL)], skip_header=True ) \n",
    "\n",
    "TEXT.build_vocab(validation_set, vectors=\"glove.6B.\"+'50'+\"d\")\n",
    "LABEL.vocab = TEXT.vocab\n",
    "\n",
    "dataset_iter_val = data.Iterator(validation_set, batch_size=1, device=0,\n",
    "        train=False, shuffle=False, repeat=False, sort=False)\n",
    "\n",
    "\n",
    "print('Testing attention based model')\n",
    "BiEncoderRNN = encdec_attention.BiEncoderRNN\n",
    "BiDecoderRNN = encdec_attention.BiDecoderRNN\n",
    "encoder = torch.load(path+'_encoder_attention')\n",
    "decoder = torch.load(path+'_decoder_attention')\n",
    "\n",
    "acc = encdec_attention.validation(encoder, decoder, dataset_iter_val)\n",
    "print('Validation accuracy: %.1f' %(sum(acc)*100/len(acc)))\n",
    "print()\n",
    "\n",
    "print('Testing attention + coverage based model')\n",
    "BiEncoderRNN = encdec_coverage.BiEncoderRNN\n",
    "BiDecoderRNN = encdec_coverage.BiDecoderRNN\n",
    "encoder = torch.load(path+'_encoder_coverage')\n",
    "decoder = torch.load(path+'_decoder_coverage')\n",
    "\n",
    "acc = encdec_coverage.validation(encoder, decoder, dataset_iter_val)\n",
    "print('Validation accuracy: %.1f' %(sum(acc)*100/len(acc)))\n",
    "print()\n",
    "\n",
    "print('Testing full model')\n",
    "BiEncoderRNN = encdec_pointergen.BiEncoderRNN\n",
    "BiDecoderRNN = encdec_pointergen.BiDecoderRNN\n",
    "encoder = torch.load(path+'_encoder_pgen')\n",
    "decoder = torch.load(path+'_decoder_pgen')\n",
    "\n",
    "acc = encdec_pointergen.validation(encoder, decoder, dataset_iter_val)\n",
    "print('Validation accuracy: %.1f' %(sum(acc)*100/len(acc)))\n",
    "\n",
    "\n",
    "\n",
    "\n",
    "\n",
    "\n",
    "\n"
   ]
  },
  {
   "cell_type": "code",
   "execution_count": null,
   "metadata": {},
   "outputs": [],
   "source": []
  }
 ],
 "metadata": {
  "kernelspec": {
   "display_name": "Python 3",
   "language": "python",
   "name": "python3"
  },
  "language_info": {
   "codemirror_mode": {
    "name": "ipython",
    "version": 3
   },
   "file_extension": ".py",
   "mimetype": "text/x-python",
   "name": "python",
   "nbconvert_exporter": "python",
   "pygments_lexer": "ipython3",
   "version": "3.5.2"
  }
 },
 "nbformat": 4,
 "nbformat_minor": 2
}
